{
  "nbformat": 4,
  "nbformat_minor": 0,
  "metadata": {
    "colab": {
      "name": "NLP_Assignment_2.ipynb",
      "provenance": []
    },
    "kernelspec": {
      "name": "python3",
      "display_name": "Python 3"
    },
    "accelerator": "GPU"
  },
  "cells": [
    {
      "cell_type": "code",
      "metadata": {
        "id": "eSdIki4dsHP8",
        "colab_type": "code",
        "colab": {}
      },
      "source": [
        "#import dataset from the given link\n",
        "\n",
        "import pandas as pd\n",
        "URL_Tr = 'https://raw.githubusercontent.com/cacoderquan/Sentiment-Analysis-on-the-Rotten-Tomatoes-movie-review-dataset/master/train.tsv'\n",
        "dataset = pd.read_csv(URL_Tr, sep='\\t')"
      ],
      "execution_count": 0,
      "outputs": []
    },
    {
      "cell_type": "code",
      "metadata": {
        "id": "Rg9TjFqHsLhJ",
        "colab_type": "code",
        "colab": {}
      },
      "source": [
        "review = dataset[['Phrase','Sentiment']]"
      ],
      "execution_count": 0,
      "outputs": []
    },
    {
      "cell_type": "code",
      "metadata": {
        "id": "OOmbvXDMsO1_",
        "colab_type": "code",
        "outputId": "e74e6635-f776-45a1-af73-04a3d1d7ae43",
        "colab": {
          "base_uri": "https://localhost:8080/",
          "height": 84
        }
      },
      "source": [
        "# import necessary libraries and initialise the preprocessing parameters\n",
        "import re\n",
        "import nltk\n",
        "nltk.download('stopwords')\n",
        "from nltk.corpus import stopwords\n",
        "nltk.download('wordnet')\n",
        "from nltk.stem import WordNetLemmatizer, PorterStemmer, LancasterStemmer\n",
        "porter = PorterStemmer()\n",
        "lancaster=LancasterStemmer()\n",
        "wordnet_lemmatizer = WordNetLemmatizer()\n",
        "stop_words = stopwords.words(\"english\")"
      ],
      "execution_count": 543,
      "outputs": [
        {
          "output_type": "stream",
          "text": [
            "[nltk_data] Downloading package stopwords to /root/nltk_data...\n",
            "[nltk_data]   Package stopwords is already up-to-date!\n",
            "[nltk_data] Downloading package wordnet to /root/nltk_data...\n",
            "[nltk_data]   Package wordnet is already up-to-date!\n"
          ],
          "name": "stdout"
        }
      ]
    },
    {
      "cell_type": "code",
      "metadata": {
        "id": "h9IeZ5eNsl6J",
        "colab_type": "code",
        "colab": {}
      },
      "source": [
        "#Function to perform preprocessing of data, stemming lemmatisation, removal of punctuations etc.,\n",
        "\n",
        "def preprocessing(review,remove_stopwords = True, stem_lem = 'word_net'):\n",
        "  temp = review\n",
        "  temp.loc[:,\"Phrase\"] = temp.Phrase.apply(lambda x : str.lower(x))\n",
        "  temp.loc[:,\"Phrase\"] = temp.Phrase.apply(lambda x : \" \".join(re.findall('[a-zA-Z]+',x)))\n",
        "  if remove_stopwords == True:\n",
        "    temp.loc[:,\"Phrase\"] = temp.Phrase.apply(lambda x : ' '.join(word for word in x.split() if word not in stop_words))\n",
        "  if stem_lem =='word_net':\n",
        "    temp.loc[:,\"Phrase\"] = temp.Phrase.apply(lambda x: \" \".join([wordnet_lemmatizer.lemmatize(word) for word in x.split()]))\n",
        "  elif stem_lem == 'lancaster':\n",
        "    temp.loc[:,\"Phrase\"] = temp.Phrase.apply(lambda x: \" \".join([lancaster.stem(word) for word in x.split()]))\n",
        "  elif stem_lem == 'porter':\n",
        "    temp.loc[:,\"Phrase\"] = temp.Phrase.apply(lambda x: \" \".join([porter.stem(word) for word in x.split()]))\n",
        "  return temp"
      ],
      "execution_count": 0,
      "outputs": []
    },
    {
      "cell_type": "code",
      "metadata": {
        "id": "Cs-uojGtsnCt",
        "colab_type": "code",
        "outputId": "09ec1db3-211a-42d7-a53f-d94ec89671d6",
        "colab": {
          "base_uri": "https://localhost:8080/",
          "height": 118
        }
      },
      "source": [
        "# The entire dataset is preprocessed and this does not result in dataleakage hence done together\n",
        "preprocessed_review = preprocessing(review,remove_stopwords=True,stem_lem='word_net')"
      ],
      "execution_count": 545,
      "outputs": [
        {
          "output_type": "stream",
          "text": [
            "/usr/local/lib/python3.6/dist-packages/pandas/core/indexing.py:494: SettingWithCopyWarning: \n",
            "A value is trying to be set on a copy of a slice from a DataFrame.\n",
            "Try using .loc[row_indexer,col_indexer] = value instead\n",
            "\n",
            "See the caveats in the documentation: http://pandas.pydata.org/pandas-docs/stable/user_guide/indexing.html#returning-a-view-versus-a-copy\n",
            "  self.obj[item] = s\n"
          ],
          "name": "stderr"
        }
      ]
    },
    {
      "cell_type": "code",
      "metadata": {
        "id": "nVIJMR0KspGW",
        "colab_type": "code",
        "outputId": "1619bb89-9dd6-4ee3-c405-779e1b33ce3d",
        "colab": {
          "base_uri": "https://localhost:8080/",
          "height": 195
        }
      },
      "source": [
        "preprocessed_review.head()"
      ],
      "execution_count": 546,
      "outputs": [
        {
          "output_type": "execute_result",
          "data": {
            "text/html": [
              "<div>\n",
              "<style scoped>\n",
              "    .dataframe tbody tr th:only-of-type {\n",
              "        vertical-align: middle;\n",
              "    }\n",
              "\n",
              "    .dataframe tbody tr th {\n",
              "        vertical-align: top;\n",
              "    }\n",
              "\n",
              "    .dataframe thead th {\n",
              "        text-align: right;\n",
              "    }\n",
              "</style>\n",
              "<table border=\"1\" class=\"dataframe\">\n",
              "  <thead>\n",
              "    <tr style=\"text-align: right;\">\n",
              "      <th></th>\n",
              "      <th>Phrase</th>\n",
              "      <th>Sentiment</th>\n",
              "    </tr>\n",
              "  </thead>\n",
              "  <tbody>\n",
              "    <tr>\n",
              "      <th>0</th>\n",
              "      <td>series escapade demonstrating adage good goose...</td>\n",
              "      <td>1</td>\n",
              "    </tr>\n",
              "    <tr>\n",
              "      <th>1</th>\n",
              "      <td>series escapade demonstrating adage good goose</td>\n",
              "      <td>2</td>\n",
              "    </tr>\n",
              "    <tr>\n",
              "      <th>2</th>\n",
              "      <td>series</td>\n",
              "      <td>2</td>\n",
              "    </tr>\n",
              "    <tr>\n",
              "      <th>3</th>\n",
              "      <td></td>\n",
              "      <td>2</td>\n",
              "    </tr>\n",
              "    <tr>\n",
              "      <th>4</th>\n",
              "      <td>series</td>\n",
              "      <td>2</td>\n",
              "    </tr>\n",
              "  </tbody>\n",
              "</table>\n",
              "</div>"
            ],
            "text/plain": [
              "                                              Phrase  Sentiment\n",
              "0  series escapade demonstrating adage good goose...          1\n",
              "1     series escapade demonstrating adage good goose          2\n",
              "2                                             series          2\n",
              "3                                                             2\n",
              "4                                             series          2"
            ]
          },
          "metadata": {
            "tags": []
          },
          "execution_count": 546
        }
      ]
    },
    {
      "cell_type": "code",
      "metadata": {
        "id": "Z8JW7g2Dswuf",
        "colab_type": "code",
        "outputId": "b212e3eb-9cf3-4352-a0c5-e2f2858b9e1e",
        "colab": {
          "base_uri": "https://localhost:8080/",
          "height": 202
        }
      },
      "source": [
        "# Some rows are null so they are droped\n",
        "null_index = preprocessed_review[preprocessed_review['Phrase']==''].index\n",
        "preprocessed_review.drop(null_index,inplace=True)\n",
        "print(preprocessed_review['Sentiment'].value_counts())"
      ],
      "execution_count": 547,
      "outputs": [
        {
          "output_type": "stream",
          "text": [
            "2    78257\n",
            "3    32855\n",
            "1    27236\n",
            "4     9205\n",
            "0     7072\n",
            "Name: Sentiment, dtype: int64\n"
          ],
          "name": "stdout"
        },
        {
          "output_type": "stream",
          "text": [
            "/usr/local/lib/python3.6/dist-packages/pandas/core/frame.py:4117: SettingWithCopyWarning: \n",
            "A value is trying to be set on a copy of a slice from a DataFrame\n",
            "\n",
            "See the caveats in the documentation: http://pandas.pydata.org/pandas-docs/stable/user_guide/indexing.html#returning-a-view-versus-a-copy\n",
            "  errors=errors,\n"
          ],
          "name": "stderr"
        }
      ]
    },
    {
      "cell_type": "code",
      "metadata": {
        "id": "wSFIjpU0tIj7",
        "colab_type": "code",
        "colab": {}
      },
      "source": [
        "#Converted to list to perform split\n",
        "\n",
        "phrases = preprocessed_review['Phrase'].values\n",
        "y = preprocessed_review['Sentiment'].values"
      ],
      "execution_count": 0,
      "outputs": []
    },
    {
      "cell_type": "code",
      "metadata": {
        "id": "v0ivh3Wfs2EC",
        "colab_type": "code",
        "outputId": "7b55a392-9cb9-4ebe-837f-ec3867059362",
        "colab": {
          "base_uri": "https://localhost:8080/",
          "height": 202
        }
      },
      "source": [
        "#Train test split is done and the training data is feed back to a dataframe\n",
        "\n",
        "from sklearn.model_selection import train_test_split\n",
        "phrases_train, phrases_test, y_train, y_test = train_test_split(phrases, y, test_size=0.30, random_state=2003,stratify = y)\n",
        "print(phrases_train.shape,y_train.shape)\n",
        "phrases_buffer = pd.DataFrame()\n",
        "phrases_buffer['Phrase'] = phrases_train.tolist()\n",
        "phrases_buffer['Sentiment'] = y_train.tolist()\n",
        "print(phrases_buffer['Sentiment'].value_counts())\n",
        "phrases_train"
      ],
      "execution_count": 549,
      "outputs": [
        {
          "output_type": "stream",
          "text": [
            "(108237,) (108237,)\n",
            "2    54780\n",
            "3    22998\n",
            "1    19065\n",
            "4     6444\n",
            "0     4950\n",
            "Name: Sentiment, dtype: int64\n"
          ],
          "name": "stdout"
        },
        {
          "output_type": "execute_result",
          "data": {
            "text/plain": [
              "array(['edit score', 'tap dancing rhino', 'may touch planet skin', ...,\n",
              "       'curious sense menace informs everything',\n",
              "       'saying ice age n fairly pretty picture', 'authentic account'],\n",
              "      dtype=object)"
            ]
          },
          "metadata": {
            "tags": []
          },
          "execution_count": 549
        }
      ]
    },
    {
      "cell_type": "code",
      "metadata": {
        "id": "M8gqIHnDtCnT",
        "colab_type": "code",
        "outputId": "de59201b-767c-4fa5-983d-52752254d03c",
        "colab": {
          "base_uri": "https://localhost:8080/",
          "height": 118
        }
      },
      "source": [
        "#These lines of code was written to experiment upsampling and down-sampling however\n",
        "#it did not provide good results hence maintained at 1\n",
        "\n",
        "phrases_train_df = pd.DataFrame()\n",
        "class_4 = phrases_buffer['Sentiment'] == 4\n",
        "class_4_dataframe = phrases_buffer[class_4]\n",
        "phrases_train_df = phrases_train_df.append([class_4_dataframe]*1,ignore_index=True)\n",
        "class_0 = phrases_buffer['Sentiment'] == 0\n",
        "class_0_dataframe = phrases_buffer[class_0]\n",
        "phrases_train_df = phrases_train_df.append([class_0_dataframe]*1,ignore_index=True)\n",
        "class_1 = phrases_buffer['Sentiment'] == 1\n",
        "class_1_dataframe = phrases_buffer[class_1]\n",
        "phrases_train_df = phrases_train_df.append([class_1_dataframe]*1,ignore_index=True)\n",
        "class_3 = phrases_buffer['Sentiment'] == 3\n",
        "class_3_dataframe = phrases_buffer[class_3]\n",
        "phrases_train_df = phrases_train_df.append([class_3_dataframe]*1,ignore_index=True)\n",
        "class_2 = phrases_buffer['Sentiment'] == 2\n",
        "class_2_dataframe = phrases_buffer[class_2]\n",
        "phrases_train_df = phrases_train_df.append([class_2_dataframe]*1,ignore_index=True)\n",
        "\n",
        "phrases_train_df['Sentiment'].value_counts()"
      ],
      "execution_count": 550,
      "outputs": [
        {
          "output_type": "execute_result",
          "data": {
            "text/plain": [
              "2    54780\n",
              "3    22998\n",
              "1    19065\n",
              "4     6444\n",
              "0     4950\n",
              "Name: Sentiment, dtype: int64"
            ]
          },
          "metadata": {
            "tags": []
          },
          "execution_count": 550
        }
      ]
    },
    {
      "cell_type": "code",
      "metadata": {
        "id": "2lOZJQFWwzPU",
        "colab_type": "code",
        "outputId": "809e99a1-cb33-40ed-8d09-9420afaf2fd0",
        "colab": {
          "base_uri": "https://localhost:8080/",
          "height": 34
        }
      },
      "source": [
        "# X_Train and y_train data are ready for keras model\n",
        "\n",
        "X_train = phrases_train_df[['Phrase']].to_numpy()\n",
        "y_train = phrases_train_df[['Sentiment']].to_numpy()\n",
        "X_train = X_train[:,0]\n",
        "y_train = y_train[:,0]\n",
        "X_train.shape,y_train.shape"
      ],
      "execution_count": 551,
      "outputs": [
        {
          "output_type": "execute_result",
          "data": {
            "text/plain": [
              "((108237,), (108237,))"
            ]
          },
          "metadata": {
            "tags": []
          },
          "execution_count": 551
        }
      ]
    },
    {
      "cell_type": "code",
      "metadata": {
        "id": "Wt7Y8XbLtrfz",
        "colab_type": "code",
        "colab": {}
      },
      "source": [
        "#Keras tokenizer is defined and fit with only the phrases in X_train dataset \n",
        "\n",
        "\n",
        "from keras.models import Sequential\n",
        "from keras import layers\n",
        "from keras.preprocessing.text import Tokenizer\n",
        "\n",
        "tokenizer = Tokenizer(num_words=13000) \n",
        "tokenizer.fit_on_texts(X_train)"
      ],
      "execution_count": 0,
      "outputs": []
    },
    {
      "cell_type": "code",
      "metadata": {
        "id": "Wuj_4QzmxBuv",
        "colab_type": "code",
        "colab": {}
      },
      "source": [
        "X_train = tokenizer.texts_to_sequences(X_train)\n",
        "X_test = tokenizer.texts_to_sequences(phrases_test)"
      ],
      "execution_count": 0,
      "outputs": []
    },
    {
      "cell_type": "code",
      "metadata": {
        "id": "MRgwiZeUxRqJ",
        "colab_type": "code",
        "colab": {}
      },
      "source": [
        "# coding for padding\n",
        "from keras.preprocessing.sequence import pad_sequences\n",
        "sentence_length = 15\n",
        "X_train = pad_sequences(X_train, padding='post', maxlen=sentence_length)\n",
        "X_test = pad_sequences(X_test, padding='post', maxlen=sentence_length)"
      ],
      "execution_count": 0,
      "outputs": []
    },
    {
      "cell_type": "code",
      "metadata": {
        "id": "nYOetUNNyTy5",
        "colab_type": "code",
        "outputId": "7d1ed809-c5a8-4da2-d0e7-6d1f2ddb195c",
        "colab": {
          "base_uri": "https://localhost:8080/",
          "height": 34
        }
      },
      "source": [
        "X_train.shape"
      ],
      "execution_count": 555,
      "outputs": [
        {
          "output_type": "execute_result",
          "data": {
            "text/plain": [
              "(108237, 15)"
            ]
          },
          "metadata": {
            "tags": []
          },
          "execution_count": 555
        }
      ]
    },
    {
      "cell_type": "code",
      "metadata": {
        "id": "F9J0T1AcyoOW",
        "colab_type": "code",
        "colab": {}
      },
      "source": [
        "# The class values are one-hot-encoded\n",
        "from keras.utils import to_categorical\n",
        "y_train = to_categorical(y_train, 5)\n",
        "y_test = to_categorical(y_test, 5)"
      ],
      "execution_count": 0,
      "outputs": []
    },
    {
      "cell_type": "code",
      "metadata": {
        "id": "jBE087wkyrIb",
        "colab_type": "code",
        "colab": {}
      },
      "source": [
        "# function for creation of embedding matrix as provided by keras documentation.\n",
        "\n",
        "import numpy as np\n",
        "\n",
        "def create_embedding_matrix(filepath, word_index, embedding_dim):\n",
        "    vocab_size = len(word_index) + 1  # Adding again 1 because of reserved 0 index\n",
        "    embedding_matrix = np.zeros((vocab_size, embedding_dim))\n",
        "\n",
        "    with open(filepath) as f:\n",
        "        for line in f:\n",
        "            word, *vector = line.split()\n",
        "            if word in word_index:\n",
        "                idx = word_index[word] \n",
        "                embedding_matrix[idx] = np.array(\n",
        "                    vector, dtype=np.float32)[:embedding_dim]\n",
        "\n",
        "    return embedding_matrix"
      ],
      "execution_count": 0,
      "outputs": []
    },
    {
      "cell_type": "code",
      "metadata": {
        "id": "-eGMkd-Pyt4q",
        "colab_type": "code",
        "colab": {}
      },
      "source": [
        "# Creating embedding matrix\n",
        "embedding_dim = 300\n",
        "embedding_matrix = create_embedding_matrix('/content/glove.6B.300d.txt',tokenizer.word_index, embedding_dim)"
      ],
      "execution_count": 0,
      "outputs": []
    },
    {
      "cell_type": "code",
      "metadata": {
        "id": "qNKOYcv1zJvV",
        "colab_type": "code",
        "outputId": "73797eb2-db99-4edb-9244-8130fb202a46",
        "colab": {
          "base_uri": "https://localhost:8080/",
          "height": 34
        }
      },
      "source": [
        "# define vocab size\n",
        "vocab_size = len(tokenizer.word_index) + 1\n",
        "vocab_size"
      ],
      "execution_count": 559,
      "outputs": [
        {
          "output_type": "execute_result",
          "data": {
            "text/plain": [
              "13604"
            ]
          },
          "metadata": {
            "tags": []
          },
          "execution_count": 559
        }
      ]
    },
    {
      "cell_type": "code",
      "metadata": {
        "id": "p1zfrwYmyv5A",
        "colab_type": "code",
        "outputId": "03fc833c-1d38-4df6-90e4-bbfddc62c254",
        "colab": {
          "base_uri": "https://localhost:8080/",
          "height": 756
        }
      },
      "source": [
        "# Define the classifier model\n",
        "\n",
        "model = Sequential()\n",
        "model.add(layers.Embedding(vocab_size, embedding_dim,weights=[embedding_matrix], input_length=sentence_length,trainable=False))\n",
        "model.add(layers.Conv1D(512, 3, activation='relu'))\n",
        "model.add(layers.BatchNormalization())\n",
        "model.add(layers.Dropout(0.5))\n",
        "model.add(layers.Conv1D(256, 3, activation='relu'))\n",
        "model.add(layers.BatchNormalization())\n",
        "model.add(layers.Dropout(0.5))\n",
        "model.add(layers.Conv1D(128, 3, activation='relu'))\n",
        "model.add(layers.BatchNormalization())\n",
        "model.add(layers.Dropout(0.5))\n",
        "model.add(layers.MaxPool1D())\n",
        "model.add(layers.Conv1D(64, 3, activation='relu'))\n",
        "model.add(layers.GlobalMaxPooling1D())\n",
        "model.add(layers.Dense(128,activation = 'relu'))\n",
        "model.add(layers.Dense(100, activation='relu'))\n",
        "model.add(layers.Dense(50, activation='relu'))\n",
        "model.add(layers.Dense(10, activation='relu'))\n",
        "model.add(layers.Dense(5, activation='softmax'))\n",
        "model.compile(optimizer='adam',loss='categorical_crossentropy',metrics=['accuracy'])\n",
        "model.summary()"
      ],
      "execution_count": 560,
      "outputs": [
        {
          "output_type": "stream",
          "text": [
            "Model: \"sequential_35\"\n",
            "_________________________________________________________________\n",
            "Layer (type)                 Output Shape              Param #   \n",
            "=================================================================\n",
            "embedding_35 (Embedding)     (None, 15, 300)           4081200   \n",
            "_________________________________________________________________\n",
            "conv1d_129 (Conv1D)          (None, 13, 512)           461312    \n",
            "_________________________________________________________________\n",
            "batch_normalization_95 (Batc (None, 13, 512)           2048      \n",
            "_________________________________________________________________\n",
            "dropout_94 (Dropout)         (None, 13, 512)           0         \n",
            "_________________________________________________________________\n",
            "conv1d_130 (Conv1D)          (None, 11, 256)           393472    \n",
            "_________________________________________________________________\n",
            "batch_normalization_96 (Batc (None, 11, 256)           1024      \n",
            "_________________________________________________________________\n",
            "dropout_95 (Dropout)         (None, 11, 256)           0         \n",
            "_________________________________________________________________\n",
            "conv1d_131 (Conv1D)          (None, 9, 128)            98432     \n",
            "_________________________________________________________________\n",
            "batch_normalization_97 (Batc (None, 9, 128)            512       \n",
            "_________________________________________________________________\n",
            "dropout_96 (Dropout)         (None, 9, 128)            0         \n",
            "_________________________________________________________________\n",
            "max_pooling1d_35 (MaxPooling (None, 4, 128)            0         \n",
            "_________________________________________________________________\n",
            "conv1d_132 (Conv1D)          (None, 2, 64)             24640     \n",
            "_________________________________________________________________\n",
            "global_max_pooling1d_31 (Glo (None, 64)                0         \n",
            "_________________________________________________________________\n",
            "dense_149 (Dense)            (None, 128)               8320      \n",
            "_________________________________________________________________\n",
            "dense_150 (Dense)            (None, 100)               12900     \n",
            "_________________________________________________________________\n",
            "dense_151 (Dense)            (None, 50)                5050      \n",
            "_________________________________________________________________\n",
            "dense_152 (Dense)            (None, 10)                510       \n",
            "_________________________________________________________________\n",
            "dense_153 (Dense)            (None, 5)                 55        \n",
            "=================================================================\n",
            "Total params: 5,089,475\n",
            "Trainable params: 1,006,483\n",
            "Non-trainable params: 4,082,992\n",
            "_________________________________________________________________\n"
          ],
          "name": "stdout"
        }
      ]
    },
    {
      "cell_type": "code",
      "metadata": {
        "id": "a1EpmrwAvBNC",
        "colab_type": "code",
        "colab": {}
      },
      "source": [
        "# Initialise early stopping\n",
        "from keras.callbacks import EarlyStopping\n",
        "es = EarlyStopping(monitor='val_loss', mode='min', verbose=1, patience=10)"
      ],
      "execution_count": 0,
      "outputs": []
    },
    {
      "cell_type": "code",
      "metadata": {
        "id": "Q052rw4WzEtn",
        "colab_type": "code",
        "outputId": "c3c3c567-7388-40c4-aabb-87a4a040605e",
        "colab": {
          "base_uri": "https://localhost:8080/",
          "height": 924
        }
      },
      "source": [
        "# Train the model\n",
        "history = model.fit(X_train, y_train,epochs=50,verbose=True,validation_data=(X_test, y_test),batch_size=25,callbacks=[es])"
      ],
      "execution_count": 562,
      "outputs": [
        {
          "output_type": "stream",
          "text": [
            "Train on 108237 samples, validate on 46388 samples\n",
            "Epoch 1/50\n",
            "108237/108237 [==============================] - 74s 684us/step - loss: 1.0707 - acc: 0.5606 - val_loss: 0.9935 - val_acc: 0.6030\n",
            "Epoch 2/50\n",
            "108237/108237 [==============================] - 62s 569us/step - loss: 0.9656 - acc: 0.6023 - val_loss: 0.9359 - val_acc: 0.6184\n",
            "Epoch 3/50\n",
            "108237/108237 [==============================] - 62s 574us/step - loss: 0.9247 - acc: 0.6158 - val_loss: 0.9079 - val_acc: 0.6303\n",
            "Epoch 4/50\n",
            "108237/108237 [==============================] - 62s 571us/step - loss: 0.8919 - acc: 0.6302 - val_loss: 0.9034 - val_acc: 0.6362\n",
            "Epoch 5/50\n",
            "108237/108237 [==============================] - 63s 580us/step - loss: 0.8698 - acc: 0.6394 - val_loss: 0.8832 - val_acc: 0.6432\n",
            "Epoch 6/50\n",
            "108237/108237 [==============================] - 63s 578us/step - loss: 0.8517 - acc: 0.6479 - val_loss: 0.8915 - val_acc: 0.6482\n",
            "Epoch 7/50\n",
            "108237/108237 [==============================] - 63s 578us/step - loss: 0.8351 - acc: 0.6527 - val_loss: 0.8801 - val_acc: 0.6485\n",
            "Epoch 8/50\n",
            "108237/108237 [==============================] - 62s 575us/step - loss: 0.8206 - acc: 0.6607 - val_loss: 0.8788 - val_acc: 0.6554\n",
            "Epoch 9/50\n",
            "108237/108237 [==============================] - 64s 592us/step - loss: 0.8083 - acc: 0.6640 - val_loss: 0.9136 - val_acc: 0.6508\n",
            "Epoch 10/50\n",
            "108237/108237 [==============================] - 63s 585us/step - loss: 0.7979 - acc: 0.6697 - val_loss: 0.8827 - val_acc: 0.6548\n",
            "Epoch 11/50\n",
            "108237/108237 [==============================] - 63s 578us/step - loss: 0.7907 - acc: 0.6727 - val_loss: 0.8533 - val_acc: 0.6557\n",
            "Epoch 12/50\n",
            "108237/108237 [==============================] - 63s 579us/step - loss: 0.7819 - acc: 0.6762 - val_loss: 0.8742 - val_acc: 0.6600\n",
            "Epoch 13/50\n",
            "108237/108237 [==============================] - 62s 571us/step - loss: 0.7736 - acc: 0.6800 - val_loss: 0.8514 - val_acc: 0.6633\n",
            "Epoch 14/50\n",
            "108237/108237 [==============================] - 62s 571us/step - loss: 0.7660 - acc: 0.6827 - val_loss: 0.8550 - val_acc: 0.6616\n",
            "Epoch 15/50\n",
            "108237/108237 [==============================] - 61s 563us/step - loss: 0.7604 - acc: 0.6851 - val_loss: 0.8580 - val_acc: 0.6640\n",
            "Epoch 16/50\n",
            "108237/108237 [==============================] - 61s 568us/step - loss: 0.7551 - acc: 0.6877 - val_loss: 0.8442 - val_acc: 0.6598\n",
            "Epoch 17/50\n",
            "108237/108237 [==============================] - 62s 571us/step - loss: 0.7468 - acc: 0.6908 - val_loss: 0.8646 - val_acc: 0.6626\n",
            "Epoch 18/50\n",
            "108237/108237 [==============================] - 62s 571us/step - loss: 0.7418 - acc: 0.6930 - val_loss: 0.9064 - val_acc: 0.6654\n",
            "Epoch 19/50\n",
            "108237/108237 [==============================] - 62s 570us/step - loss: 0.7376 - acc: 0.6946 - val_loss: 0.8678 - val_acc: 0.6624\n",
            "Epoch 20/50\n",
            "108237/108237 [==============================] - 61s 566us/step - loss: 0.7342 - acc: 0.6968 - val_loss: 0.9004 - val_acc: 0.6655\n",
            "Epoch 21/50\n",
            "108237/108237 [==============================] - 62s 570us/step - loss: 0.7285 - acc: 0.6979 - val_loss: 0.8725 - val_acc: 0.6661\n",
            "Epoch 22/50\n",
            "108237/108237 [==============================] - 62s 571us/step - loss: 0.7251 - acc: 0.7001 - val_loss: 0.8451 - val_acc: 0.6652\n",
            "Epoch 23/50\n",
            "108237/108237 [==============================] - 62s 571us/step - loss: 0.7188 - acc: 0.7035 - val_loss: 0.9330 - val_acc: 0.6664\n",
            "Epoch 24/50\n",
            "108237/108237 [==============================] - 62s 569us/step - loss: 0.7155 - acc: 0.7035 - val_loss: 0.8935 - val_acc: 0.6644\n",
            "Epoch 25/50\n",
            "108237/108237 [==============================] - 61s 566us/step - loss: 0.7115 - acc: 0.7064 - val_loss: 0.9020 - val_acc: 0.6617\n",
            "Epoch 26/50\n",
            "108237/108237 [==============================] - 61s 566us/step - loss: 0.7083 - acc: 0.7073 - val_loss: 0.9929 - val_acc: 0.6650\n",
            "Epoch 00026: early stopping\n"
          ],
          "name": "stdout"
        }
      ]
    },
    {
      "cell_type": "code",
      "metadata": {
        "id": "53KDKpR9sgiQ",
        "colab_type": "code",
        "colab": {
          "base_uri": "https://localhost:8080/",
          "height": 541
        },
        "outputId": "0a6f8890-b61e-4a0d-c137-6d754fc4f688"
      },
      "source": [
        "#Plot the training accuracy and loss\n",
        "import matplotlib.pyplot as plt\n",
        "\n",
        "training_dict = history.history\n",
        "accuracy_val = training_dict['acc']\n",
        "loss_val = training_dict['loss']\n",
        "epochs = range(1, len(loss_val) + 1)\n",
        "plt.figure()\n",
        "plt.xlabel(\"No of Epochs\")\n",
        "plt.ylabel(\"Loss\")\n",
        "plt.plot(epochs,loss_val)\n",
        "plt.savefig('Loss.png')\n",
        "plt.figure()\n",
        "plt.xlabel(\"No of Epochs\")\n",
        "plt.ylabel(\"Accuracy\")\n",
        "plt.plot(epochs,accuracy_val)\n",
        "plt.savefig('Accuracy.png')"
      ],
      "execution_count": 568,
      "outputs": [
        {
          "output_type": "display_data",
          "data": {
            "image/png": "[encoded data removed]",
            "text/plain": [
              "<Figure size 432x288 with 1 Axes>"
            ]
          },
          "metadata": {
            "tags": []
          }
        },
        {
          "output_type": "display_data",
          "data": {
            "image/png": "[encoded data removed]",
            "text/plain": [
              "<Figure size 432x288 with 1 Axes>"
            ]
          },
          "metadata": {
            "tags": []
          }
        }
      ]
    },
    {
      "cell_type": "code",
      "metadata": {
        "id": "BoMLXammzVxj",
        "colab_type": "code",
        "colab": {}
      },
      "source": [
        "# Save the model\n",
        "model.save('1111017_1dconv_reg')"
      ],
      "execution_count": 0,
      "outputs": []
    },
    {
      "cell_type": "code",
      "metadata": {
        "id": "d0BR3E4z95lu",
        "colab_type": "code",
        "colab": {}
      },
      "source": [
        "# load the model\n",
        "\n",
        "from keras.models import load_model\n",
        "model = load_model('1111017_1dconv_reg')"
      ],
      "execution_count": 0,
      "outputs": []
    },
    {
      "cell_type": "code",
      "metadata": {
        "id": "0JDxo0aJ_R5U",
        "colab_type": "code",
        "colab": {
          "base_uri": "https://localhost:8080/",
          "height": 34
        },
        "outputId": "8aa4b67f-e807-4349-cffa-8a4360425bf5"
      },
      "source": [
        "# Evaluate the model\n",
        "loss, accuracy = model.evaluate(X_test, y_test, verbose=False)\n",
        "print(\"Testing Accuracy:  {:.4f}\".format(accuracy))"
      ],
      "execution_count": 566,
      "outputs": [
        {
          "output_type": "stream",
          "text": [
            "Testing Accuracy:  0.6650\n"
          ],
          "name": "stdout"
        }
      ]
    },
    {
      "cell_type": "code",
      "metadata": {
        "id": "QKph4Ncl_Rxc",
        "colab_type": "code",
        "colab": {
          "base_uri": "https://localhost:8080/",
          "height": 84
        },
        "outputId": "bcfb212e-9f22-475b-b509-4bed24ffe30d"
      },
      "source": [
        "# Calculate Precision, Recall and F1 score.\n",
        "\n",
        "from sklearn.metrics import f1_score, precision_score, recall_score, confusion_matrix\n",
        "import numpy as np\n",
        "\n",
        "from collections import Counter\n",
        "rounded_labels=np.argmax(y_test, axis=1)\n",
        "y_pred1 = model.predict(X_test)\n",
        "y_pred = np.argmax(y_pred1, axis=1)\n",
        "print(y_pred)\n",
        "precision = precision_score(rounded_labels, y_pred , average=\"macro\")\n",
        "print(\"The Precision is : %.4f\" % precision)\n",
        "recall = recall_score(rounded_labels, y_pred , average=\"macro\")\n",
        "print(\"The Recall is : %.4f\" % recall)\n",
        "f1_score = f1_score(rounded_labels, y_pred , average=\"macro\")\n",
        "print(\"The F1_score is : %.4f\" % f1_score)"
      ],
      "execution_count": 567,
      "outputs": [
        {
          "output_type": "stream",
          "text": [
            "[1 3 3 ... 3 2 3]\n",
            "The Precision is : 0.5963\n",
            "The Recall is : 0.5373\n",
            "The F1_score is : 0.5582\n"
          ],
          "name": "stdout"
        }
      ]
    },
    {
      "cell_type": "code",
      "metadata": {
        "id": "0gcsBAxFJQqv",
        "colab_type": "code",
        "colab": {}
      },
      "source": [
        ""
      ],
      "execution_count": 0,
      "outputs": []
    }
  ]
}